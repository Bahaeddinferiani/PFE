{
 "cells": [
  {
   "cell_type": "code",
   "execution_count": 2,
   "id": "cb6a4bf2-a233-4e90-9851-be6973ba55ef",
   "metadata": {
    "tags": []
   },
   "outputs": [],
   "source": [
    "from pyspark import *\n",
    "from pyspark.sql import SparkSession\n",
    "from pyspark.sql.types import StructType"
   ]
  },
  {
   "cell_type": "code",
   "execution_count": 3,
   "id": "7e14567b-a629-4c32-861d-f9d6cac9e601",
   "metadata": {
    "tags": []
   },
   "outputs": [
    {
     "name": "stderr",
     "output_type": "stream",
     "text": [
      "23/05/19 21:13:10 WARN NativeCodeLoader: Unable to load native-hadoop library for your platform... using builtin-java classes where applicable\n",
      "Setting default log level to \"WARN\".\n",
      "To adjust logging level use sc.setLogLevel(newLevel). For SparkR, use setLogLevel(newLevel).\n"
     ]
    }
   ],
   "source": [
    "spark = SparkSession.builder \\\n",
    "            .appName(\"test\") \\\n",
    "            .config(\"spark.jars\", \"/opt/mysql-connector-j-8.0.32.jar\") \\\n",
    "            .getOrCreate()"
   ]
  },
  {
   "cell_type": "code",
   "execution_count": null,
   "id": "bbb3ac3e-9621-47b5-bcd8-6c0d82782f1c",
   "metadata": {
    "tags": []
   },
   "outputs": [
    {
     "name": "stderr",
     "output_type": "stream",
     "text": [
      "[Stage 0:===============================================>           (4 + 1) / 5]\r"
     ]
    }
   ],
   "source": [
    "dataframe = spark.read \\\n",
    "    .format(\"jdbc\") \\\n",
    "    .option(\"driver\",\"com.mysql.cj.jdbc.Driver\") \\\n",
    "    .option(\"url\", \"jdbc:mysql://mysql:3306/employees\") \\\n",
    "    .option(\"user\", \"root\") \\\n",
    "    .option(\"password\", \"root\") \\\n",
    "    .option(\"dbtable\",\"mytable\") \\\n",
    "    .option(\"lowerBound\", 0) \\\n",
    "    .option(\"upperBound\",5000) \\\n",
    "    .option(\"numPartitions\", 5) \\\n",
    "    .option(\"partitionColumn\", \"id\") \\\n",
    "    .load()\n",
    "dataframe.write.csv(\"test1010million.csv\")"
   ]
  }
 ],
 "metadata": {
  "kernelspec": {
   "display_name": "Python 3 (ipykernel)",
   "language": "python",
   "name": "python3"
  },
  "language_info": {
   "codemirror_mode": {
    "name": "ipython",
    "version": 3
   },
   "file_extension": ".py",
   "mimetype": "text/x-python",
   "name": "python",
   "nbconvert_exporter": "python",
   "pygments_lexer": "ipython3",
   "version": "3.8.10"
  }
 },
 "nbformat": 4,
 "nbformat_minor": 5
}

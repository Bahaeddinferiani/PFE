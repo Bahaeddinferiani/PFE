{
 "cells": [
  {
   "cell_type": "code",
   "execution_count": null,
   "id": "df50fa92-38d8-4f94-8e8c-4892819296c4",
   "metadata": {
    "tags": []
   },
   "outputs": [],
   "source": [
    "from pyspark.sql import SparkSession\n",
    "from pyspark.sql.functions import year, month, countDistinct, lag, col, sum, when\n",
    "from pyspark.sql.window import Window\n",
    "\n",
    "# create a SparkSession\n",
    "spark = SparkSession.builder.appName(\"myApp\").getOrCreate()"
   ]
  },
  {
   "cell_type": "code",
   "execution_count": null,
   "id": "5ba45d27-d159-4338-b538-f8b3afa2ff97",
   "metadata": {
    "tags": []
   },
   "outputs": [],
   "source": [
    "# read the CSV file into a DataFrame\n",
    "df = spark.read.csv(\"pret\", header=True, inferSchema=True)\n"
   ]
  },
  {
   "cell_type": "code",
   "execution_count": null,
   "id": "46d71512-eff7-4954-b25e-91b5208f74cc",
   "metadata": {
    "tags": []
   },
   "outputs": [],
   "source": [
    "\n",
    "# filter the DataFrame to only include new clients (i.e., those who did not appear in any previous month)\n",
    "windowSpec = Window.partitionBy(\"code_agent\", \"code_client\").orderBy(\"date_de_deboursement\")\n",
    "df_new_clients = df.withColumn(\"prev_code_client\", lag(\"code_client\").over(windowSpec)) \\\n",
    "                  .withColumn(\"is_new_client\", when(col(\"prev_code_client\").isNull(), 1).otherwise(0)) \\\n",
    "                  .filter(col(\"is_new_client\") == 1) \\\n",
    "                  .drop(\"prev_code_client\", \"is_new_client\")\n",
    "\n",
    "# group by code_agent and year/month and count distinct code_client\n",
    "num_clients_df = df_new_clients.groupBy(\"code_agent\", year(\"date_de_deboursement\").alias(\"year\"), month(\"date_de_deboursement\").alias(\"month\")).agg(countDistinct(\"code_client\").alias(\"num_new_clients\"))\n",
    "\n",
    "# add a column with the previous month's number of clients for each code_agent\n",
    "windowSpec = Window.partitionBy(\"code_agent\").orderBy(\"year\", \"month\")\n",
    "lagged_df = num_clients_df.withColumn(\"prev_num_new_clients\", lag(\"num_new_clients\").over(windowSpec))\n",
    "\n",
    "# calculate the percentage of new clients relative to the total number of clients for each code_agent\n",
    "final_df = lagged_df.withColumn(\"num_all_clients\", sum(\"num_new_clients\").over(windowSpec)) \\\n",
    "                   .withColumn(\"pct_new_clients\", col(\"num_new_clients\") / col(\"num_all_clients\") * 100)\n",
    "\n",
    "# show the final DataFrame\n",
    "final_df.show(1000)"
   ]
  }
 ],
 "metadata": {
  "kernelspec": {
   "display_name": "Python 3 (ipykernel)",
   "language": "python",
   "name": "python3"
  },
  "language_info": {
   "codemirror_mode": {
    "name": "ipython",
    "version": 3
   },
   "file_extension": ".py",
   "mimetype": "text/x-python",
   "name": "python",
   "nbconvert_exporter": "python",
   "pygments_lexer": "ipython3",
   "version": "3.8.10"
  }
 },
 "nbformat": 4,
 "nbformat_minor": 5
}
